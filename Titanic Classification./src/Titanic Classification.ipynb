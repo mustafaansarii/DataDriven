{
 "cells": [
  {
   "cell_type": "markdown",
   "id": "80265d36",
   "metadata": {},
   "source": [
    "# Titanic Classification :\n",
    "Build a predictive model to determine the\n",
    "likelihood of survival for passengers on\n",
    "the Titanic using data science techniques\n",
    "in Python."
   ]
  },
  {
   "cell_type": "code",
   "execution_count": null,
   "id": "a6de7b48",
   "metadata": {},
   "outputs": [],
   "source": []
  }
 ],
 "metadata": {
  "kernelspec": {
   "display_name": "Python 3 (ipykernel)",
   "language": "python",
   "name": "python3"
  },
  "language_info": {
   "codemirror_mode": {
    "name": "ipython",
    "version": 3
   },
   "file_extension": ".py",
   "mimetype": "text/x-python",
   "name": "python",
   "nbconvert_exporter": "python",
   "pygments_lexer": "ipython3",
   "version": "3.9.12"
  }
 },
 "nbformat": 4,
 "nbformat_minor": 5
}
