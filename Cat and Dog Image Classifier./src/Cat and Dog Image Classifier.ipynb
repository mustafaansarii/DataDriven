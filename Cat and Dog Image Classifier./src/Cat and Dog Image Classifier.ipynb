{
 "cells": [
  {
   "cell_type": "markdown",
   "id": "27c0e1d1",
   "metadata": {},
   "source": [
    "# Cat and Dog Image Classifier :\n",
    "Develop an image classification model to\n",
    "distinguish between images of cats and dogs\n",
    "using data science techniques in Python."
   ]
  },
  {
   "cell_type": "code",
   "execution_count": null,
   "id": "234c0a05",
   "metadata": {},
   "outputs": [],
   "source": []
  }
 ],
 "metadata": {
  "kernelspec": {
   "display_name": "Python 3 (ipykernel)",
   "language": "python",
   "name": "python3"
  },
  "language_info": {
   "codemirror_mode": {
    "name": "ipython",
    "version": 3
   },
   "file_extension": ".py",
   "mimetype": "text/x-python",
   "name": "python",
   "nbconvert_exporter": "python",
   "pygments_lexer": "ipython3",
   "version": "3.9.12"
  }
 },
 "nbformat": 4,
 "nbformat_minor": 5
}
