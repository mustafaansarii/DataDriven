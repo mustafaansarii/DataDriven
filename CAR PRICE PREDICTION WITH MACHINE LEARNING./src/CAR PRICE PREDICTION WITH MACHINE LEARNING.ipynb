{
 "cells": [
  {
   "cell_type": "markdown",
   "id": "9adbc4a5",
   "metadata": {},
   "source": [
    "# CAR PRICE PREDICTION WITH MACHINE LEARNING\n",
    "\n",
    "The price of a car depends on a lot of factors like the goodwill of the brand of the car,\n",
    "features of the car, horsepower and the mileage it gives and many more. Car price\n",
    "prediction is one of the major research areas in machine learning. So if you want to learn\n",
    "how to train a car price prediction model then this project is for you.\n",
    "\n",
    "\n",
    "\n",
    "DOWNLOAD DATASET FROM [HERE](https://www.kaggle.com/datasets/vijayaadithyanvg/car-price-predictionused-cars)"
   ]
  },
  {
   "cell_type": "code",
   "execution_count": null,
   "id": "32f9c8e7",
   "metadata": {},
   "outputs": [],
   "source": []
  }
 ],
 "metadata": {
  "kernelspec": {
   "display_name": "Python 3 (ipykernel)",
   "language": "python",
   "name": "python3"
  },
  "language_info": {
   "codemirror_mode": {
    "name": "ipython",
    "version": 3
   },
   "file_extension": ".py",
   "mimetype": "text/x-python",
   "name": "python",
   "nbconvert_exporter": "python",
   "pygments_lexer": "ipython3",
   "version": "3.9.12"
  }
 },
 "nbformat": 4,
 "nbformat_minor": 5
}
